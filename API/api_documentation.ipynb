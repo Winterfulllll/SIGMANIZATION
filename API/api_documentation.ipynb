{
 "cells": [
  {
   "cell_type": "code",
   "execution_count": null,
   "metadata": {},
   "outputs": [],
   "source": [
    "import requests\n",
    "from urllib.parse import quote\n",
    "\n",
    "\n",
    "headers = {\n",
    "    \"accept\": \"application/json\",\n",
    "    \"X-API-KEY\": \"S2F7CKC-CTEMPQ1-K4YDW4W-NJRG7KH\"\n",
    "}"
   ]
  },
  {
   "cell_type": "markdown",
   "id": "d95e374d",
   "metadata": {},
   "source": [
    "# Поиск и фильтры"
   ]
  },
  {
   "cell_type": "code",
   "execution_count": null,
   "id": "5a892ed6",
   "metadata": {},
   "outputs": [],
   "source": [
    "def set_url_special_search():\n",
    "    url = \"https://api.kinopoisk.dev/v1.4/movie?page=1&limit=10\""
   ]
  },
  {
   "cell_type": "markdown",
   "id": "fb8a71e7",
   "metadata": {},
   "source": [
    "## Поиск по ID"
   ]
  },
  {
   "cell_type": "code",
   "execution_count": null,
   "id": "588bf237",
   "metadata": {},
   "outputs": [],
   "source": [
    "# Поиск по Kinopoisk id\n",
    "def search_movie_kinopoisk(movie_id):\n",
    "    url += f\"&id={movie_id}\""
   ]
  },
  {
   "cell_type": "code",
   "execution_count": null,
   "id": "a4dbf5c5",
   "metadata": {},
   "outputs": [],
   "source": [
    "# Поиск по IMDb id, возвращает более краткую инфу по фильму (дефолтные поля, тк не указан selectFields\n",
    "def search_movie_imdb(movie_id):\n",
    "    url += f\"&externalId.imdb={movie_id}\""
   ]
  },
  {
   "cell_type": "code",
   "execution_count": null,
   "id": "2a0285ff",
   "metadata": {},
   "outputs": [],
   "source": [
    "# Поиск по TMDb id\n",
    "def search_movie_tmdb(movie_id):\n",
    "    url += f\"&externalId.tmdb={movie_id}\""
   ]
  },
  {
   "cell_type": "code",
   "execution_count": null,
   "id": "bc952f51",
   "metadata": {},
   "outputs": [],
   "source": [
    "# Поиск по KinoPoisk HD\n",
    "def search_movie_kinopoisk_hd(movie_id):\n",
    "    url += f\"&externalId.kpHD={movie_id}\""
   ]
  },
  {
   "cell_type": "code",
   "execution_count": null,
   "id": "bf1112a5",
   "metadata": {},
   "outputs": [],
   "source": [
    "# Вывод всей информации\n",
    "def filter_show_all_info():\n",
    "    url += f\"&selectFields=\""
   ]
  },
  {
   "cell_type": "markdown",
   "id": "97fe2047",
   "metadata": {},
   "source": [
    "## Фильтры"
   ]
  },
  {
   "cell_type": "code",
   "execution_count": null,
   "id": "6e82dba0",
   "metadata": {},
   "outputs": [],
   "source": [
    "# Выбор нужных полей в респонсе\n",
    "def filter_required_fields(required_field):\n",
    "    url += f\"&selectFields={required_field}\"\n",
    "# required_field = \"id\""
   ]
  },
  {
   "cell_type": "code",
   "execution_count": null,
   "id": "d6f2a24f",
   "metadata": {},
   "outputs": [],
   "source": [
    "# Ненулевые параметры\n",
    "def filter_not_null_fields(not_null_field):\n",
    "    url += f\"&notNullFields={not_null_field}\"\n",
    "# not_null_field = \"name\""
   ]
  },
  {
   "cell_type": "code",
   "execution_count": null,
   "id": "35bc0719",
   "metadata": {},
   "outputs": [],
   "source": [
    "# Сортировка по конкретным полям\n",
    "def filter_sort_field(sort_field):\n",
    "    url += f\"&sortField={sort_field}\"\n",
    "# sort_field = \"name\""
   ]
  },
  {
   "cell_type": "code",
   "execution_count": null,
   "id": "f1f9666b",
   "metadata": {},
   "outputs": [],
   "source": [
    "# Сортировка по возрастанию или убыванию\n",
    "def filter_sort_type(sort_type):\n",
    "    url += f\"&sortType={sort_type}\"\n",
    "# sort_type = \"-1\""
   ]
  },
  {
   "cell_type": "code",
   "execution_count": null,
   "id": "cf63d252",
   "metadata": {},
   "outputs": [],
   "source": [
    "# Фильтр по типу фильма\n",
    "def filter_movie_type(movie_type: str):\n",
    "    url += f\"&type={movie_type}\"\n",
    "# movie_type = \"movie\""
   ]
  },
  {
   "cell_type": "code",
   "execution_count": null,
   "id": "1688b232",
   "metadata": {},
   "outputs": [],
   "source": [
    "# Фильтр по году выпуска\n",
    "def filter_movie_year(movie_year: str):\n",
    "    url += f\"&year={movie_year}\"\n",
    "# movie_year = \"2024\""
   ]
  },
  {
   "cell_type": "code",
   "execution_count": null,
   "id": "4ae48476",
   "metadata": {},
   "outputs": [],
   "source": [
    "# Фильтр по рейтингу Кинопоиск\n",
    "def filter_movie_rate(movie_rate_begin=\"0\", movie_rate_end=\"10\"):\n",
    "    url += f\"&rating.kp={movie_rate_begin}-{movie_rate_end}\"\n",
    "# movie_rate_begin = \"7\"\n",
    "# movie_rate_end = \"8.2\""
   ]
  },
  {
   "cell_type": "code",
   "execution_count": null,
   "id": "3e86fe2a",
   "metadata": {},
   "outputs": [],
   "source": [
    "# Фильтр по возрастному ограничению\n",
    "def filter_age_lim(movie_age_filter):\n",
    "    url += f\"&ageRating={movie_age_filter}\"\n",
    "# movie_age_filter = \"12\""
   ]
  },
  {
   "cell_type": "code",
   "execution_count": null,
   "id": "9094f76c",
   "metadata": {},
   "outputs": [],
   "source": [
    "# Фильтр по продолжительности фильма\n",
    "def filter_movie_length(movie_length):\n",
    "    url += f\"&movieLength={movie_length}\"\n",
    "# movie_length = \"100\""
   ]
  },
  {
   "cell_type": "code",
   "execution_count": null,
   "id": "6c751144",
   "metadata": {},
   "outputs": [],
   "source": [
    "# Фильтр по жанру\n",
    "def filter_genres_name(movie_genres_name):\n",
    "    url += f\"&genres.name={movie_genres_name}\"\n",
    "# movie_genres_name = \"драма\""
   ]
  },
  {
   "cell_type": "code",
   "execution_count": null,
   "id": "3c7ecfbc",
   "metadata": {},
   "outputs": [],
   "source": [
    "# Фильтр по стране\n",
    "def filter_movie_country(movie_country):\n",
    "    url += f\"&countries.name={movie_country}\"\n",
    "# movie_country = \"Россия\""
   ]
  },
  {
   "cell_type": "code",
   "execution_count": null,
   "id": "eef7a976",
   "metadata": {},
   "outputs": [],
   "source": [
    "# Фильтр по площадке выпуска\n",
    "def filter_movie_area(movie_area):\n",
    "    url += f\"&networks.items.name={movie_area}\"\n",
    "# movie_area = \"Netflix\""
   ]
  },
  {
   "cell_type": "code",
   "execution_count": null,
   "id": "8ee9e903",
   "metadata": {},
   "outputs": [],
   "source": [
    "# Поиск по ID персоны (актер или  режиссер или еще кто-то)\n",
    "def filter_person_id(person_id):\n",
    "    url += f\"&persons.id={person_id}\"\n",
    "# person_id = \"666\""
   ]
  },
  {
   "cell_type": "code",
   "execution_count": null,
   "id": "cc28f9a1",
   "metadata": {},
   "outputs": [],
   "source": [
    "# Поиск по профессиям персон\n",
    "def filter_persons_profession(person_profession):\n",
    "    url += f\"&persons.profession={person_profession}\"\n",
    "# person_profession = \"актер\""
   ]
  },
  {
   "cell_type": "code",
   "execution_count": null,
   "id": "4edecd55",
   "metadata": {},
   "outputs": [],
   "source": [
    "# Фильтр по сборам в мире\n",
    "def filter_fees_world(movie_fees_world):\n",
    "    url += f\"&fees.world={movie_fees_world}\"\n",
    "# movie_fees_world = \"10000000\""
   ]
  },
  {
   "cell_type": "code",
   "execution_count": null,
   "id": "fc93dc46",
   "metadata": {},
   "outputs": [],
   "source": [
    "# Поиск похожих фильмов на данный\n",
    "def filter_similar_movies(similar_to_movie_id):\n",
    "    url += f\"&similarMovies.id={similar_to_movie_id}\"\n",
    "# similar_to_movie_id = \"77439\""
   ]
  },
  {
   "cell_type": "code",
   "execution_count": null,
   "id": "7d06edff",
   "metadata": {},
   "outputs": [],
   "source": [
    "# Поиск по подборкам KinoPoisk\n",
    "def filter_movies_lists(movies_list):\n",
    "    url += f\"&lists={movies_list}\"\n",
    "# movies_list = \"top250\""
   ]
  },
  {
   "cell_type": "code",
   "execution_count": null,
   "id": "498302e1",
   "metadata": {},
   "outputs": [],
   "source": [
    "# Поиск по доступным платформам\n",
    "def filter_availible_platforms(availible_area):\n",
    "    url += f\"&watchability.items.name={availible_area}\"\n",
    "# availible_area = \"ivi\""
   ]
  },
  {
   "cell_type": "markdown",
   "id": "b96c78bd",
   "metadata": {},
   "source": [
    "## Поиск по названию"
   ]
  },
  {
   "cell_type": "code",
   "execution_count": null,
   "id": "c937aef9",
   "metadata": {},
   "outputs": [],
   "source": [
    "# Реализация поиска по названию\n",
    "def search_movie_by_name(query_text: str):\n",
    "    url = \"https://api.kinopoisk.dev/v1.4/movie/search?page=1&limit=10\"\n",
    "    encoded_query_text = quote(query_text, encoding='utf-8')  # Кодировка текста под URL\n",
    "    url += f\"&query={encoded_query_text}\""
   ]
  },
  {
   "cell_type": "markdown",
   "id": "ad3dd1b0",
   "metadata": {},
   "source": [
    "## Рандомный фильм по критериям"
   ]
  },
  {
   "cell_type": "code",
   "execution_count": null,
   "id": "1076aafa",
   "metadata": {},
   "outputs": [],
   "source": [
    "# Устанавливаем ссылку для выдачи случайного фильмы\n",
    "def set_url_random():\n",
    "    url = \"https://api.kinopoisk.dev/v1.4/movie/random?\""
   ]
  },
  {
   "cell_type": "code",
   "execution_count": null,
   "id": "a5531ee6",
   "metadata": {},
   "outputs": [],
   "source": [
    "# Получаем рандомный фильм по фильтрам\n",
    "\n",
    "set_url_random()\n",
    "# Далее используем предыдущие методы для добавления определенных фильтров"
   ]
  },
  {
   "cell_type": "markdown",
   "id": "c9cd06dc",
   "metadata": {},
   "source": [
    "# Работа с самой БД"
   ]
  },
  {
   "cell_type": "markdown",
   "id": "103a184e",
   "metadata": {},
   "source": [
    "## Получение всех списков стран и тд..."
   ]
  },
  {
   "cell_type": "code",
   "execution_count": null,
   "id": "e1e0307b",
   "metadata": {},
   "outputs": [],
   "source": [
    "# Устанавливаем ссылку для получения инфы о БД\n",
    "def set_url_all_db_values():\n",
    "    url = \"https://api.kinopoisk.dev/v1/movie/possible-values-by-field?field=\""
   ]
  },
  {
   "cell_type": "code",
   "execution_count": null,
   "id": "25f00b62",
   "metadata": {},
   "outputs": [],
   "source": [
    "# Для жанров\n",
    "def filter_show_all_genres():\n",
    "    url += \"genres.name\""
   ]
  },
  {
   "cell_type": "code",
   "execution_count": null,
   "id": "0239ff41",
   "metadata": {},
   "outputs": [],
   "source": [
    "# Для стран\n",
    "def filter_show_all_countries():\n",
    "    url += \"countries.name\""
   ]
  },
  {
   "cell_type": "code",
   "execution_count": null,
   "id": "925427b4",
   "metadata": {},
   "outputs": [],
   "source": [
    "# Для типов\n",
    "def filter_show_all_types():\n",
    "    url += \"type\""
   ]
  },
  {
   "cell_type": "code",
   "execution_count": null,
   "id": "82b021de",
   "metadata": {},
   "outputs": [],
   "source": [
    "# Для статуса\n",
    "def filter_show_all_status():\n",
    "    url += \"status\""
   ]
  },
  {
   "cell_type": "markdown",
   "id": "f908ae43",
   "metadata": {},
   "source": [
    "# Поиск по людям в киноиндустрии"
   ]
  },
  {
   "cell_type": "code",
   "execution_count": null,
   "id": "4729a412",
   "metadata": {},
   "outputs": [],
   "source": [
    "def sel_url_search_person():\n",
    "    url = \"https://api.kinopoisk.dev/v1.4/person?page=1&limit=10\""
   ]
  },
  {
   "cell_type": "markdown",
   "id": "d4cc9b86",
   "metadata": {},
   "source": [
    "## Поиск по id"
   ]
  },
  {
   "cell_type": "code",
   "execution_count": null,
   "id": "a4847a06",
   "metadata": {},
   "outputs": [],
   "source": [
    "# Ищем по id человека\n",
    "def search_person_by_id(person_id):\n",
    "    url = f\"https://api.kinopoisk.dev/v1.4/person/{person_id}\"\n"
   ]
  },
  {
   "cell_type": "markdown",
   "id": "e553f60a",
   "metadata": {},
   "source": [
    "## Универсальный поиск"
   ]
  },
  {
   "cell_type": "code",
   "execution_count": null,
   "id": "3ca84646",
   "metadata": {},
   "outputs": [],
   "source": [
    "..."
   ]
  },
  {
   "cell_type": "markdown",
   "id": "2989860e",
   "metadata": {},
   "source": [
    "## Поиск людей по имени"
   ]
  },
  {
   "cell_type": "code",
   "execution_count": null,
   "id": "cb9aec44",
   "metadata": {},
   "outputs": [],
   "source": [
    "# Реализация поиска по названию\n",
    "def search_person_by_name(query_text: str):\n",
    "    url = \"https://api.kinopoisk.dev/v1.4/person/search?page=1&limit=10\"\n",
    "    encoded_query_text = quote(query_text, encoding='utf-8')  # Кодировка текста под URL\n",
    "    url += f\"&query={encoded_query_text}\""
   ]
  }
 ],
 "metadata": {
  "language_info": {
   "name": "python"
  }
 },
 "nbformat": 4,
 "nbformat_minor": 5
}
