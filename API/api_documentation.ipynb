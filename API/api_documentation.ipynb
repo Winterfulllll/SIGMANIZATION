{
 "cells": [
  {
   "cell_type": "code",
   "execution_count": null,
   "id": "c6f9d631",
   "metadata": {},
   "outputs": [],
   "source": [
    "import requests\n",
    "from urllib.parse import quote\n",
    "\n",
    "\n",
    "headers = {\n",
    "    \"accept\": \"application/json\",\n",
    "    \"X-API-KEY\": \"S2F7CKC-CTEMPQ1-K4YDW4W-NJRG7KH\"\n",
    "}"
   ]
  },
  {
   "cell_type": "markdown",
   "id": "d95e374d",
   "metadata": {},
   "source": [
    "# Поиск и фильтры"
   ]
  },
  {
   "cell_type": "code",
   "execution_count": null,
   "id": "5a892ed6",
   "metadata": {},
   "outputs": [],
   "source": [
    "# Пишем для установки ссылки на дефолтное значение для поиска по фильмам\n",
    "def set_url_movie():\n",
    "    url = \"https://api.kinopoisk.dev/v1.4/movie?page=1&limit=10\""
   ]
  },
  {
   "cell_type": "markdown",
   "id": "fb8a71e7",
   "metadata": {},
   "source": [
    "## Поиск по ID"
   ]
  },
  {
   "cell_type": "code",
   "execution_count": null,
   "id": "588bf237",
   "metadata": {},
   "outputs": [],
   "source": [
    "# Поиск по Kinopoisk id\n",
    "def search_movie_kinopoisk(movie_id):\n",
    "    url += f\"&id={movie_id}\"\n",
    "# (пример: \"666\", \"555\", \"!666\") "
   ]
  },
  {
   "cell_type": "code",
   "execution_count": null,
   "id": "a4dbf5c5",
   "metadata": {},
   "outputs": [],
   "source": [
    "# Поиск по IMDb id, возвращает более краткую инфу по фильму (дефолтные поля, тк не указан selectFields\n",
    "def search_movie_imdb(movie_id):\n",
    "    url += f\"&externalId.imdb={movie_id}\"\n",
    "# (пример: \"tt666\", \"tt555\", \"!tt666\")"
   ]
  },
  {
   "cell_type": "code",
   "execution_count": null,
   "id": "2a0285ff",
   "metadata": {},
   "outputs": [],
   "source": [
    "# Поиск по TMDb id\n",
    "def search_movie_tmdb(movie_id):\n",
    "    url += f\"&externalId.tmdb={movie_id}\"\n",
    "# Поиск по TMDB ID (пример: 666, 555, !666)"
   ]
  },
  {
   "cell_type": "code",
   "execution_count": null,
   "id": "bc952f51",
   "metadata": {},
   "outputs": [],
   "source": [
    "# Поиск по KinoPoisk HD\n",
    "def search_movie_kinopoisk_hd(movie_id):\n",
    "    url += f\"&externalId.kpHD={movie_id}\"\n",
    "# (пример: \"48e8d0acb0f62d8585101798eaeceec5\", \"!48e8d0acb0f62d8585101798eaeceec5\")"
   ]
  },
  {
   "cell_type": "code",
   "execution_count": null,
   "id": "bf1112a5",
   "metadata": {},
   "outputs": [],
   "source": [
    "# Вывод всей информации\n",
    "def filter_show_all_info():\n",
    "    url += f\"&selectFields=\""
   ]
  },
  {
   "cell_type": "markdown",
   "id": "97fe2047",
   "metadata": {},
   "source": [
    "## Фильтры"
   ]
  },
  {
   "cell_type": "code",
   "execution_count": null,
   "id": "6e82dba0",
   "metadata": {},
   "outputs": [],
   "source": [
    "# Выбор нужных полей в респонсе\n",
    "def filter_required_fields(required_field):\n",
    "    url += f\"&selectFields={required_field}\"\n",
    "# values = [\n",
    "#     \"id\", \"externalId\", \"name\", \"enName\", \"alternativeName\", \"names\", \"description\", \n",
    "#     \"shortDescription\", \"slogan\", \"type\", \"typeNumber\", \"isSeries\", \"status\", \"year\", \n",
    "#     \"releaseYears\", \"rating\", \"ratingMpaa\", \"ageRating\", \"votes\", \"seasonsInfo\", \"budget\", \n",
    "#     \"audience\", \"movieLength\", \"seriesLength\", \"totalSeriesLength\", \"genres\", \"countries\", \n",
    "#     \"poster\", \"backdrop\", \"logo\", \"ticketsOnSale\", \"videos\", \"networks\", \"persons\", \"facts\", \n",
    "#     \"fees\", \"premieres\", \"similarMovies\", \"sequelsAndPrequels\", \"watchability\", \"lists\", \n",
    "#     \"top10\", \"top250\", \"updatedAt\", \"createdAt\"\n",
    "# ]"
   ]
  },
  {
   "cell_type": "code",
   "execution_count": null,
   "id": "d6f2a24f",
   "metadata": {},
   "outputs": [],
   "source": [
    "# Ненулевые параметры\n",
    "def filter_not_null_fields(not_null_field):\n",
    "    url += f\"&notNullFields={not_null_field}\"\n",
    "# values = [\n",
    "#     \"id\", \"externalId.imdb\", \"externalId.tmdb\", \"externalId.kpHD\", \"name\",\n",
    "#     \"enName\", \"alternativeName\", \"names\", \"description\", \"shortDescriptions\",\n",
    "#     \"logan\", \"typ\", \"typeNumber\", \"isSeries\", \"status\",\n",
    "#     \"year\", \"releaseYears.start\", \"releaseYears.end\", \"rating.kp\",\n",
    "#     \"rating.imdb\", \"rating.tmdb\", \"rating.filmCritics\", \"rating.russianFilmCritics\",\n",
    "#     \"rating.await\", \"ratingMpaa\", \"ageRating\", \"votes.kp\",\n",
    "#     \"votes.imdb\", \"votes.tmdb\", \"votes.filmCritics\", \"votes.russianFilmCritics\",\n",
    "#     \"votes.await\", \"budget.value\", \"budget.currency\", \"audience.count\",\n",
    "#     \"audience.country\", \"movieLength\", \"seriesLength\", \"totalSeriesLength\",\n",
    "#     \"genres.name\", \"countries.name\", \"poster.url\", \"backdrop.url\",\n",
    "#     \"logo.url\", \"ticketsOnSale\", \"videos.trailers.url\", \"videos.trailers.site\",\n",
    "#     \"videos.trailers.name\", \"networks.items.name\", \"networks.items.logo.url\",\n",
    "#     \"persons.id\", \"persons.name\", \"persons.enName\", \"persons.photo\",\n",
    "#     \"persons.description\", \"persons.profession\", \"persons.enProfession\",\n",
    "#     \"facts.type\", \"facts.value\", \"facts.spoiler\", \"fees.world.value\",\n",
    "#     \"fees.usa.value\", \"fees.russia.value\", \"premiere.world\", \"premiere.usa\",\n",
    "#     \"premiere.russia\", \"premiere.digital\", \"premiere.dvd\", \"premiere.bluRay\",\n",
    "#     \"premiere.cinema\", \"premiere.country\", \"similarMovies.id\", \"similarMovies.name\",\n",
    "#     \"similarMovies.enName\", \"similarMovies.alternativeName\", \"similarMovies.poster.url\",\n",
    "#     \"similarMovies.rating.kp\", \"similarMovies.rating.imdb\", \"similarMovies.rating.tmdb\",\n",
    "#     \"similarMovies.year\", \"sequelsAndPrequels.id\", \"sequelsAndPrequels.name\",\n",
    "#     \"sequelsAndPrequels.enName\", \"sequelsAndPrequels.alternativeName\", \"sequelsAndPrequels.poster.url\",\n",
    "#     \"sequelsAndPrequels.rating.kp\", \"sequelsAndPrequels.rating.imdb\", \"sequelsAndPrequels.rating.tmdb\",\n",
    "#     \"sequelsAndPrequels.year\", \"watchability.items.name\", \"watchability.items.url\",\n",
    "#     \"watchability.items.logo.url\", \"lists\", \"top10\", \"top250\", \"updatedAt\", \"createdAt\"\n",
    "# ]"
   ]
  },
  {
   "cell_type": "code",
   "execution_count": null,
   "id": "35bc0719",
   "metadata": {},
   "outputs": [],
   "source": [
    "# Сортировка по конкретным полям\n",
    "def filter_sort_field(sort_field):\n",
    "    url += f\"&sortField={sort_field}\"\n",
    "# См. выше"
   ]
  },
  {
   "cell_type": "code",
   "execution_count": null,
   "id": "f1f9666b",
   "metadata": {},
   "outputs": [],
   "source": [
    "# Сортировка по возрастанию или убыванию\n",
    "def filter_sort_type(sort_type):\n",
    "    url += f\"&sortType={sort_type}\"\n",
    "# [\"-1\", \"1\"]"
   ]
  },
  {
   "cell_type": "code",
   "execution_count": null,
   "id": "cf63d252",
   "metadata": {},
   "outputs": [],
   "source": [
    "# Фильтр по типу фильма\n",
    "def filter_movie_type(movie_type: str):\n",
    "    url += f\"&type={movie_type}\"\n",
    "# values = [ \"movie\", \"tv-series\", \"cartoon\", \"animated-series\", \"anime\" ]"
   ]
  },
  {
   "cell_type": "code",
   "execution_count": null,
   "id": "1688b232",
   "metadata": {},
   "outputs": [],
   "source": [
    "# Фильтр по году выпуска\n",
    "def filter_movie_year(movie_year: str):\n",
    "    url += f\"&year={movie_year}\"\n",
    "# Число типа yyyy (2024, 2023, ...)"
   ]
  },
  {
   "cell_type": "code",
   "execution_count": null,
   "id": "4ae48476",
   "metadata": {},
   "outputs": [],
   "source": [
    "# Фильтр по рейтингу Кинопоиск\n",
    "def filter_movie_rate(movie_rate_begin=\"0\", movie_rate_end=\"10\"):\n",
    "    url += f\"&rating.kp={movie_rate_begin}-{movie_rate_end}\"\n",
    "# Два или одно число. Если два, то промежуток, а если одно - то вернет все фильмы с оценкой выше заданной"
   ]
  },
  {
   "cell_type": "code",
   "execution_count": null,
   "id": "3e86fe2a",
   "metadata": {},
   "outputs": [],
   "source": [
    "# Фильтр по возрастному ограничению\n",
    "def filter_age_lim(movie_age_filter_begin=\"0\", movie_age_filter_end=\"30\"):\n",
    "    url += f\"&ageRating={movie_age_filter_begin}-{movie_age_filter_end}\"\n",
    "# Аналогично выше"
   ]
  },
  {
   "cell_type": "code",
   "execution_count": null,
   "id": "9094f76c",
   "metadata": {},
   "outputs": [],
   "source": [
    "# Фильтр по продолжительности фильма\n",
    "def filter_movie_length(movie_length_begin=\"0\", movie_length_end=\"10000\"):\n",
    "    url += f\"&movieLength={movie_length_begin}-{movie_length_end}\"\n",
    "# Аналогично выше"
   ]
  },
  {
   "cell_type": "code",
   "execution_count": null,
   "id": "6c751144",
   "metadata": {},
   "outputs": [],
   "source": [
    "# Фильтр по жанру\n",
    "def filter_genres_name(movie_genres_name):\n",
    "    url += f\"&genres.name={movie_genres_name}\"\n",
    "# movie_genres_name = \"драма\""
   ]
  },
  {
   "cell_type": "code",
   "execution_count": null,
   "id": "3c7ecfbc",
   "metadata": {},
   "outputs": [],
   "source": [
    "# Фильтр по стране\n",
    "def filter_movie_country(movie_country):\n",
    "    url += f\"&countries.name={movie_country}\"\n",
    "# movie_country = \"Россия\""
   ]
  },
  {
   "cell_type": "code",
   "execution_count": null,
   "id": "eef7a976",
   "metadata": {},
   "outputs": [],
   "source": [
    "# Фильтр по площадке выпуска\n",
    "def filter_movie_area(movie_area):\n",
    "    url += f\"&networks.items.name={movie_area}\"\n",
    "# movie_area = \"Netflix\""
   ]
  },
  {
   "cell_type": "code",
   "execution_count": null,
   "id": "8ee9e903",
   "metadata": {},
   "outputs": [],
   "source": [
    "# Поиск по ID персоны (актер или  режиссер или еще кто-то)\n",
    "def filter_person_id(person_id):\n",
    "    url += f\"&persons.id={person_id}\"\n",
    "# person_id = \"666\""
   ]
  },
  {
   "cell_type": "code",
   "execution_count": null,
   "id": "cc28f9a1",
   "metadata": {},
   "outputs": [],
   "source": [
    "# Поиск по профессиям персон\n",
    "def filter_persons_profession(person_profession):\n",
    "    url += f\"&persons.profession={person_profession}\"\n",
    "# person_profession = \"актер\""
   ]
  },
  {
   "cell_type": "code",
   "execution_count": null,
   "id": "4edecd55",
   "metadata": {},
   "outputs": [],
   "source": [
    "# Фильтр по сборам в мире\n",
    "def filter_fees_world(movie_fees_world):\n",
    "    url += f\"&fees.world={movie_fees_world}\"\n",
    "# movie_fees_world = \"10000000\""
   ]
  },
  {
   "cell_type": "code",
   "execution_count": null,
   "id": "fc93dc46",
   "metadata": {},
   "outputs": [],
   "source": [
    "# Поиск похожих фильмов на данный\n",
    "def filter_similar_movies(similar_to_movie_id):\n",
    "    url += f\"&similarMovies.id={similar_to_movie_id}\"\n",
    "# similar_to_movie_id = \"77439\""
   ]
  },
  {
   "cell_type": "code",
   "execution_count": null,
   "id": "7d06edff",
   "metadata": {},
   "outputs": [],
   "source": [
    "# Поиск по подборкам KinoPoisk\n",
    "def filter_movies_lists(movies_list):\n",
    "    url += f\"&lists={movies_list}\"\n",
    "# movies_list = \"top250\""
   ]
  },
  {
   "cell_type": "code",
   "execution_count": null,
   "id": "498302e1",
   "metadata": {},
   "outputs": [],
   "source": [
    "# Поиск по доступным платформам\n",
    "def filter_availible_platforms(availible_area):\n",
    "    url += f\"&watchability.items.name={availible_area}\"\n",
    "# availible_area = \"ivi\""
   ]
  },
  {
   "cell_type": "markdown",
   "id": "b96c78bd",
   "metadata": {},
   "source": [
    "## Поиск по названию"
   ]
  },
  {
   "cell_type": "code",
   "execution_count": null,
   "id": "c937aef9",
   "metadata": {},
   "outputs": [],
   "source": [
    "# Реализация поиска по названию\n",
    "def search_movie_by_name(query_text: str):\n",
    "    url = \"https://api.kinopoisk.dev/v1.4/movie/search?page=1&limit=10\"\n",
    "    encoded_query_text = quote(query_text, encoding='utf-8')  # Кодировка текста под URL\n",
    "    url += f\"&query={encoded_query_text}\""
   ]
  },
  {
   "cell_type": "markdown",
   "id": "ad3dd1b0",
   "metadata": {},
   "source": [
    "## Рандомный фильм по критериям"
   ]
  },
  {
   "cell_type": "code",
   "execution_count": null,
   "id": "1076aafa",
   "metadata": {},
   "outputs": [],
   "source": [
    "# Устанавливаем ссылку для выдачи случайного фильмы\n",
    "def set_url_random():\n",
    "    url = \"https://api.kinopoisk.dev/v1.4/movie/random?\""
   ]
  },
  {
   "cell_type": "code",
   "execution_count": null,
   "id": "a5531ee6",
   "metadata": {},
   "outputs": [],
   "source": [
    "# Получаем рандомный фильм по фильтрам\n",
    "\n",
    "set_url_random()\n",
    "# Далее используем предыдущие методы для добавления определенных фильтров"
   ]
  },
  {
   "cell_type": "markdown",
   "id": "c9cd06dc",
   "metadata": {},
   "source": [
    "# Работа с самой БД"
   ]
  },
  {
   "cell_type": "markdown",
   "id": "103a184e",
   "metadata": {},
   "source": [
    "## Получение всех списков стран и тд..."
   ]
  },
  {
   "cell_type": "code",
   "execution_count": null,
   "id": "e1e0307b",
   "metadata": {},
   "outputs": [],
   "source": [
    "# Устанавливаем ссылку для получения инфы о БД\n",
    "def set_url_all_db_values():\n",
    "    url = \"https://api.kinopoisk.dev/v1/movie/possible-values-by-field?field=\""
   ]
  },
  {
   "cell_type": "code",
   "execution_count": null,
   "id": "25f00b62",
   "metadata": {},
   "outputs": [],
   "source": [
    "# Для жанров\n",
    "def filter_show_all_genres():\n",
    "    url += \"genres.name\""
   ]
  },
  {
   "cell_type": "code",
   "execution_count": null,
   "id": "0239ff41",
   "metadata": {},
   "outputs": [],
   "source": [
    "# Для стран\n",
    "def filter_show_all_countries():\n",
    "    url += \"countries.name\""
   ]
  },
  {
   "cell_type": "code",
   "execution_count": null,
   "id": "925427b4",
   "metadata": {},
   "outputs": [],
   "source": [
    "# Для типов\n",
    "def filter_show_all_types():\n",
    "    url += \"type\""
   ]
  },
  {
   "cell_type": "code",
   "execution_count": null,
   "id": "82b021de",
   "metadata": {},
   "outputs": [],
   "source": [
    "# Для статуса\n",
    "def filter_show_all_status():\n",
    "    url += \"status\""
   ]
  },
  {
   "cell_type": "markdown",
   "id": "f908ae43",
   "metadata": {},
   "source": [
    "# Поиск по людям в киноиндустрии"
   ]
  },
  {
   "cell_type": "code",
   "execution_count": null,
   "id": "4729a412",
   "metadata": {},
   "outputs": [],
   "source": [
    "def sel_url_person():\n",
    "    url = \"https://api.kinopoisk.dev/v1.4/person?page=1&limit=10\""
   ]
  },
  {
   "cell_type": "markdown",
   "id": "d4cc9b86",
   "metadata": {},
   "source": [
    "## Поиск по id"
   ]
  },
  {
   "cell_type": "code",
   "execution_count": null,
   "id": "a4847a06",
   "metadata": {},
   "outputs": [],
   "source": [
    "# Ищем по id человека\n",
    "def search_person_by_id(person_id):\n",
    "    url = f\"https://api.kinopoisk.dev/v1.4/person/{person_id}\"\n"
   ]
  },
  {
   "cell_type": "markdown",
   "id": "e553f60a",
   "metadata": {},
   "source": [
    "## Универсальный поиск"
   ]
  },
  {
   "cell_type": "markdown",
   "id": "3ca84646",
   "metadata": {},
   "source": [
    "... не нужно, тк кто будет искать актёров по фильтрам?"
   ]
  },
  {
   "cell_type": "markdown",
   "id": "2989860e",
   "metadata": {},
   "source": [
    "## Поиск людей по имени"
   ]
  },
  {
   "cell_type": "code",
   "execution_count": null,
   "id": "cb9aec44",
   "metadata": {},
   "outputs": [],
   "source": [
    "# Реализация поиска по названию\n",
    "def search_person_by_name(query_text: str):\n",
    "    url = \"https://api.kinopoisk.dev/v1.4/person/search?page=1&limit=10\"\n",
    "    encoded_query_text = quote(query_text, encoding='utf-8')  # Кодировка текста под URL\n",
    "    url += f\"&query={encoded_query_text}\""
   ]
  },
  {
   "cell_type": "markdown",
   "id": "fbb6b3bc",
   "metadata": {},
   "source": [
    "# Получение фотографий фильма"
   ]
  },
  {
   "cell_type": "code",
   "execution_count": null,
   "id": "d1686e92",
   "metadata": {},
   "outputs": [],
   "source": [
    "# Ссылка на получение картинок\n",
    "def set_url_image():\n",
    "    url = \"https://api.kinopoisk.dev/v1.4/image?page=1&limit=10\""
   ]
  },
  {
   "cell_type": "markdown",
   "id": "6e5fac27",
   "metadata": {},
   "source": [
    "## Фильтры"
   ]
  },
  {
   "cell_type": "code",
   "execution_count": null,
   "id": "117217c3",
   "metadata": {},
   "outputs": [],
   "source": [
    "# Фильтр по конкретному фильму (по id)\n",
    "def filter_image_by_movie_id(movie_id):\n",
    "    url += f\"&movieId={movie_id}\""
   ]
  },
  {
   "cell_type": "code",
   "execution_count": null,
   "id": "6c014ae2",
   "metadata": {},
   "outputs": [],
   "source": [
    "# Фильтр по типу картинки (обложка, и тд...)\n",
    "def filter_image_type(image_type):\n",
    "    url += f\"&type={image_type}\""
   ]
  },
  {
   "cell_type": "code",
   "execution_count": null,
   "id": "f17f202f",
   "metadata": {},
   "outputs": [],
   "source": [
    "# Фильтр по размеру\n",
    "def filter_image_height(image_height):\n",
    "    url += f\"&height={image_height}\"\n",
    "\n",
    "def filter_image_width(image_wigth):\n",
    "    url += f\"&width={image_wigth}\""
   ]
  },
  {
   "cell_type": "markdown",
   "id": "b74140ca",
   "metadata": {},
   "source": [
    "# Поиск по коллекциям"
   ]
  },
  {
   "cell_type": "code",
   "execution_count": null,
   "id": "895f3439",
   "metadata": {},
   "outputs": [],
   "source": [
    "# Ссылка\n",
    "def set_url_list():\n",
    "    url = \"https://api.kinopoisk.dev/v1.4/list?page=1&limit=10\""
   ]
  },
  {
   "cell_type": "markdown",
   "id": "617eba3a",
   "metadata": {},
   "source": [
    "## Универсальный поиск"
   ]
  },
  {
   "cell_type": "code",
   "execution_count": null,
   "id": "2328b77e",
   "metadata": {},
   "outputs": [],
   "source": [
    "# Фильтр по названию коллекции\n",
    "def filter_list_slug(list_slug):\n",
    "    url += f\"&slug={list_slug}\""
   ]
  },
  {
   "cell_type": "code",
   "execution_count": null,
   "id": "92e6c8a8",
   "metadata": {},
   "outputs": [],
   "source": [
    "# Фильтр по категории видеоматериала\n",
    "def filter_list_category(list_category):\n",
    "    url += f\"&category={list_category}\""
   ]
  },
  {
   "cell_type": "code",
   "execution_count": null,
   "id": "64e826ea",
   "metadata": {},
   "outputs": [],
   "source": [
    "# Фильтр по кол-ву фильмов\n",
    "def filter_list_count(count):\n",
    "    url += f\"&moviesCount={count}\""
   ]
  },
  {
   "cell_type": "markdown",
   "id": "27022fc8",
   "metadata": {},
   "source": [
    "# Получение наград фильма"
   ]
  },
  {
   "cell_type": "code",
   "execution_count": null,
   "id": "ebc96f71",
   "metadata": {},
   "outputs": [],
   "source": [
    "# Ссылка\n",
    "def set_url_movie_awards():\n",
    "    url = \"https://api.kinopoisk.dev/v1.4/movie/awards?page=1&limit=10\""
   ]
  },
  {
   "cell_type": "code",
   "execution_count": null,
   "id": "69c7a331",
   "metadata": {},
   "outputs": [],
   "source": [
    "# По id фильма\n",
    "def filter_movie_awards_movie_id(movie_id):\n",
    "    url += f\"&movieId={movie_id}\""
   ]
  },
  {
   "cell_type": "code",
   "execution_count": null,
   "id": "1a59d627",
   "metadata": {},
   "outputs": [],
   "source": [
    "# По номинациям\n",
    "def filter_movie_awards_title(award_title):\n",
    "    url += f\"&nomination.award.title={award_title}\""
   ]
  },
  {
   "cell_type": "code",
   "execution_count": null,
   "id": "69b825e5",
   "metadata": {},
   "outputs": [],
   "source": [
    "# По году\n",
    "def filter_movie_awards_year(award_year):\n",
    "    url += f\"&nomination.award.year={award_year}\""
   ]
  },
  {
   "cell_type": "markdown",
   "id": "84ea8316",
   "metadata": {},
   "source": [
    "# Поиск по отзывам"
   ]
  },
  {
   "cell_type": "code",
   "execution_count": null,
   "id": "5c5d68e0",
   "metadata": {},
   "outputs": [],
   "source": [
    "# Ссылка\n",
    "def set_url_review():\n",
    "    url = \"https://api.kinopoisk.dev/v1.4/review?page=1&limit=10\""
   ]
  },
  {
   "cell_type": "code",
   "execution_count": null,
   "id": "ba6cd561",
   "metadata": {},
   "outputs": [],
   "source": [
    "# По фильму\n",
    "def filter_review_movie_id(movie_id):\n",
    "    url += f\"&movieId={movie_id}\""
   ]
  },
  {
   "cell_type": "code",
   "execution_count": null,
   "id": "48b44ae1",
   "metadata": {},
   "outputs": [],
   "source": [
    "# По имени автора\n",
    "def filter_review_author_name(author_name):\n",
    "    url += f\"&author={author_name}\""
   ]
  },
  {
   "cell_type": "code",
   "execution_count": null,
   "id": "998be1f1",
   "metadata": {},
   "outputs": [],
   "source": [
    "# По типу - негативный, положительный и тд...\n",
    "def filter_review_type(review_type):\n",
    "    url += f\"&type={review_type}\""
   ]
  }
 ],
 "metadata": {
  "language_info": {
   "name": "python"
  }
 },
 "nbformat": 4,
 "nbformat_minor": 5
}
